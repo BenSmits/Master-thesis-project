{
 "cells": [
  {
   "cell_type": "code",
   "execution_count": 1,
   "metadata": {},
   "outputs": [],
   "source": [
    "import pandas as pd\n",
    "import numpy as np\n",
    "\n",
    "import seaborn as sns\n",
    "import matplotlib.pyplot as plt\n",
    "\n",
    "import matplotlib.pyplot as plt\n",
    "\n",
    "data = 'DATA/'\n",
    "pickles = 'pickles/'\n",
    "month_dict = {'april': '04', \n",
    "              'augustus': '08', \n",
    "              'december': '12', \n",
    "              'februari': '02', \n",
    "              'januari': '01', \n",
    "              'juli': '07', \n",
    "              'juni': '06', \n",
    "              'maart': '03', \n",
    "              'mei': '05', \n",
    "              'november': '11', \n",
    "              'oktober': '10', \n",
    "              'september': '09'}\n",
    "quarter_dict = {'januari': 'Q1'\n",
    "                ,'februari': 'Q1'\n",
    "                ,'maart': 'Q1'\n",
    "                ,'april': 'Q2'\n",
    "                ,'mei': 'Q2'\n",
    "                , 'juni': 'Q2'\n",
    "                ,'juli': 'Q3'\n",
    "                ,'augustus': 'Q3'\n",
    "                ,'september': 'Q3'\n",
    "                ,'oktober': 'Q4'\n",
    "                ,'november': 'Q4'\n",
    "                ,'december': 'Q4'}"
   ]
  },
  {
   "cell_type": "code",
   "execution_count": null,
   "metadata": {},
   "outputs": [],
   "source": []
  },
  {
   "cell_type": "code",
   "execution_count": 2,
   "metadata": {},
   "outputs": [],
   "source": [
    "def is_pos(x, threshold = 0.05):\n",
    "    '''\n",
    "    x: polarity of the tweet\n",
    "    returns 1 when above threshold and 0 otherwise'''\n",
    "    if x > threshold:\n",
    "        return 1\n",
    "    else:\n",
    "        return 0\n",
    "\n",
    "def is_neg(x, threshold = 0.05):\n",
    "    '''\n",
    "    x: polarity of the tweet\n",
    "    returns 1 when below threshold and 0 otherwise'''\n",
    "    if x < -threshold:\n",
    "        return 1\n",
    "    else:\n",
    "        return 0"
   ]
  },
  {
   "cell_type": "code",
   "execution_count": 3,
   "metadata": {},
   "outputs": [],
   "source": [
    "# loading the data\n",
    "sent = pd.read_csv(data + 'Final sentiment.csv')\n",
    "emot = pd.read_csv(data + 'Final emotion.csv')\n",
    "wf = pd.read_csv(data+'calculated workforce.csv')\n",
    "st = pd.read_csv(data+'starters percentage and calculated.csv')"
   ]
  },
  {
   "cell_type": "markdown",
   "metadata": {},
   "source": [
    "## preparing emotions"
   ]
  },
  {
   "cell_type": "code",
   "execution_count": 4,
   "metadata": {},
   "outputs": [],
   "source": [
    "def calc_emotion(emotions, approach, dc):\n",
    "    '''\n",
    "    emotions: a list of emotions in the order fear anger joy and surprise\n",
    "    approach: a string either valence or cognitive\n",
    "    dc: a string either dominant or conflict\n",
    "    returns the value based on the type of derived emotions must be calculated'''\n",
    "    emotions_l = [emotions['Fear'], emotions['Anger'], emotions['Joy'], emotions['Surprise']]\n",
    "    if approach == 'valence':\n",
    "        pairs = [(2,3),(0,1)] # Joy & Surprise and Fear & Anger \n",
    "    elif approach == 'cognitive':\n",
    "        pairs = [(0,3), (1,2)] # Fear & Surprise and Anger & Joy\n",
    "    else:\n",
    "        raise NameError('approach unknown')\n",
    "    e1 = emotions_l[pairs[0][0]] + emotions_l[pairs[0][1]]\n",
    "    e2 = emotions_l[pairs[1][0]] + emotions_l[pairs[1][1]]\n",
    "    if dc == 'D': # dominant\n",
    "        if e1 >= e2:\n",
    "            return e1\n",
    "        else:\n",
    "            return e2\n",
    "    elif dc == 'C': # conflict\n",
    "        if e1 <= e2:\n",
    "            return e1\n",
    "        else:\n",
    "            return e2\n",
    "\n",
    "def calc_mixed(D, C, p = 0.5):\n",
    "    '''\n",
    "    D: float representing the dominant emotion\n",
    "    C: float representing the conflicting emotion\n",
    "    p: the threshold value p by default 0.5\n",
    "    returns the calculated mixed emotion based on the GTM formula'''\n",
    "    mixed = 5.0*(C+1.0)**p-(D+1.0)**(1.0/(C+1.0))\n",
    "    return mixed\n"
   ]
  },
  {
   "cell_type": "code",
   "execution_count": 5,
   "metadata": {},
   "outputs": [],
   "source": [
    "emot.loc[:,'date'] = pd.to_datetime(emot.date, dayfirst = True, infer_datetime_format = True)\n",
    "emot.loc[:,'quarter'] = emot.date.dt.to_period('Q')\n",
    "emot.loc[:,'month'] = emot.date.dt.to_period('M')"
   ]
  },
  {
   "cell_type": "code",
   "execution_count": 6,
   "metadata": {},
   "outputs": [],
   "source": [
    "# calculates the derived emotions\n",
    "monthly_emot = emot.loc[:, ['month','username','Fear', 'Anger', 'Joy','Surprise']].groupby(['month', 'username']).mean()\n",
    "monthly_emot = monthly_emot.loc[(monthly_emot.loc[:, 'Fear'] > 0 ) |\n",
    "                               (monthly_emot.loc[:, 'Anger'] > 0 ) |\n",
    "                               (monthly_emot.loc[:, 'Joy'] > 0 ) |\n",
    "                               (monthly_emot.loc[:, 'Surprise'] > 0 ), :]\n",
    "\n",
    "monthly_emot.loc[:, '(valence, Dominant)'] = monthly_emot.loc[:,['Fear', 'Anger','Joy', 'Surprise']].apply(lambda x: calc_emotion(x, 'valence', 'D'), axis = 'columns')\n",
    "monthly_emot.loc[:, '(valence, Conflict)'] = monthly_emot.loc[:,['Fear', 'Anger','Joy', 'Surprise']].apply(lambda x: calc_emotion(x, 'valence', 'C'), axis = 'columns')\n",
    "monthly_emot.loc[:, '(valence, Mixed)'] = monthly_emot.loc[:,['(valence, Dominant)', '(valence, Conflict)']].apply(lambda x: calc_mixed(float(x[0]), float(x[1])), axis = 'columns')\n",
    "\n",
    "monthly_emot.loc[:, '(cognitive, Dominant)'] = monthly_emot.loc[:,['Fear', 'Anger','Joy', 'Surprise']].apply(lambda x: calc_emotion(x, 'cognitive', 'D'), axis = 'columns')\n",
    "monthly_emot.loc[:, '(cognitive, Conflict)'] = monthly_emot.loc[:,['Fear', 'Anger','Joy', 'Surprise']].apply(lambda x: calc_emotion(x, 'cognitive', 'C'), axis = 'columns')\n",
    "monthly_emot.loc[:, '(cognitive, Mixed)'] = monthly_emot.loc[:,['(cognitive, Dominant)', '(cognitive, Conflict)']].apply(lambda x: calc_mixed(float(x[0]), float(x[1])), axis = 'columns')"
   ]
  },
  {
   "cell_type": "code",
   "execution_count": 7,
   "metadata": {},
   "outputs": [],
   "source": [
    "#aggregated monthly \n",
    "monthly_emot = monthly_emot.reset_index().groupby('month').mean()\n",
    "monthly_emot = monthly_emot.reset_index()\n",
    "monthly_emot.loc[:,'month'] = monthly_emot.loc[:, 'month'].astype(str)"
   ]
  },
  {
   "cell_type": "code",
   "execution_count": 8,
   "metadata": {},
   "outputs": [],
   "source": [
    "# calculates the derived emotions\n",
    "quarterly_emot = emot.loc[:, ['quarter','username','Fear', 'Anger', 'Joy','Surprise']].groupby(['quarter', 'username']).mean()\n",
    "quarterly_emot = quarterly_emot.loc[(quarterly_emot.loc[:, 'Fear'] > 0 ) |\n",
    "                               (quarterly_emot.loc[:, 'Anger'] > 0 ) |\n",
    "                               (quarterly_emot.loc[:, 'Joy'] > 0 ) |\n",
    "                               (quarterly_emot.loc[:, 'Surprise'] > 0 ), :]\n",
    "\n",
    "quarterly_emot.loc[:, '(valence, Dominant)'] = quarterly_emot.loc[:,['Fear', 'Anger','Joy', 'Surprise']].apply(lambda x: calc_emotion(x, 'valence', 'D'), axis = 'columns')\n",
    "quarterly_emot.loc[:, '(valence, Conflict)'] = quarterly_emot.loc[:,['Fear', 'Anger','Joy', 'Surprise']].apply(lambda x: calc_emotion(x, 'valence', 'C'), axis = 'columns')\n",
    "quarterly_emot.loc[:, '(valence, Mixed)'] = quarterly_emot.loc[:,['(valence, Dominant)', '(valence, Conflict)']].apply(lambda x: calc_mixed(float(x[0]), float(x[1])), axis = 'columns')\n",
    "\n",
    "quarterly_emot.loc[:, '(cognitive, Dominant)'] = quarterly_emot.loc[:,['Fear', 'Anger','Joy', 'Surprise']].apply(lambda x: calc_emotion(x, 'cognitive', 'D'), axis = 'columns')\n",
    "quarterly_emot.loc[:, '(cognitive, Conflict)'] = quarterly_emot.loc[:,['Fear', 'Anger','Joy', 'Surprise']].apply(lambda x: calc_emotion(x, 'cognitive', 'C'), axis = 'columns')\n",
    "quarterly_emot.loc[:, '(cognitive, Mixed)'] = quarterly_emot.loc[:,['(cognitive, Dominant)', '(cognitive, Conflict)']].apply(lambda x: calc_mixed(float(x[0]), float(x[1])), axis = 'columns')"
   ]
  },
  {
   "cell_type": "code",
   "execution_count": 9,
   "metadata": {},
   "outputs": [],
   "source": [
    "#aggregated quarterly \n",
    "quarterly_emot = quarterly_emot.reset_index().groupby('quarter').mean()\n",
    "quarterly_emot = quarterly_emot.reset_index()\n",
    "quarterly_emot.loc[:,'quarter'] = quarterly_emot.loc[:, 'quarter'].astype(str)"
   ]
  },
  {
   "cell_type": "markdown",
   "metadata": {},
   "source": [
    "# Workforce\n",
    "- convert everything to montlhy\n",
    "- merge with the workforce dataset"
   ]
  },
  {
   "cell_type": "code",
   "execution_count": 10,
   "metadata": {},
   "outputs": [],
   "source": [
    "# getting both sentiments based on random word list and the institutions based word list\n",
    "\n",
    "temp = sent.loc[sent.loc[:,'institutions'] == 1, ['month','username', 'sentiment']].groupby(by = ['month', 'username']).mean()\n",
    "threshold = 0.05\n",
    "temp.loc[:,'pos'] = temp.loc[:, 'sentiment'].apply(lambda x: is_pos(x, threshold = threshold))\n",
    "temp.loc[:,'neg'] = temp.loc[:, 'sentiment'].apply(lambda x: is_neg(x, threshold = threshold))\n",
    "temp = temp.loc[:,['pos', 'neg']].groupby(by = ['month']).mean()\n",
    "\n",
    "temp1 = sent.loc[sent.loc[:,'random'] == 1, ['month','username', 'sentiment']].groupby(by = ['month', 'username']).mean()\n",
    "threshold = 0.05\n",
    "temp1.loc[:,'pos'] = temp1.loc[:, 'sentiment'].apply(lambda x: is_pos(x, threshold = threshold))\n",
    "temp1.loc[:,'neg'] = temp1.loc[:, 'sentiment'].apply(lambda x: is_neg(x, threshold = threshold))\n",
    "temp1 = temp1.loc[:,['pos', 'neg']].groupby(by = ['month']).mean()\n",
    "\n",
    "monthly_sent = pd.merge(temp, temp1, how = 'left',on = 'month', suffixes = [' institutions', ' random'])"
   ]
  },
  {
   "cell_type": "code",
   "execution_count": 11,
   "metadata": {},
   "outputs": [],
   "source": [
    "# the monthly sentiment and monthly emotions are merged with the workforce dataset\n",
    "temp = pd.merge(wf.loc[:,['Perioden', 'WA Workforce']], monthly_sent, how = 'left', left_on = 'Perioden', right_on = 'month')\n",
    "temp = pd.merge(temp, monthly_emot, how = 'left', left_on = 'Perioden', right_on = 'month')\n",
    "wf_final = temp.drop(labels = ['month'], axis = 'columns')"
   ]
  },
  {
   "cell_type": "code",
   "execution_count": 12,
   "metadata": {},
   "outputs": [],
   "source": [
    "wf_final.loc[:, 'Workforce 3M'] = wf_final.loc[:,'WA Workforce'].shift(-3)\n",
    "wf_final.to_csv(data+'final workforce.csv')"
   ]
  },
  {
   "cell_type": "markdown",
   "metadata": {},
   "source": [
    "# Starters"
   ]
  },
  {
   "cell_type": "code",
   "execution_count": 13,
   "metadata": {},
   "outputs": [],
   "source": [
    "temp = sent.loc[sent.loc[:,'institutions'] == 1, ['quarter','username', 'sentiment']].groupby(by = ['quarter', 'username']).mean()\n",
    "threshold = 0.05\n",
    "temp.loc[:,'pos'] = temp.loc[:, 'sentiment'].apply(lambda x: is_pos(x, threshold = threshold))\n",
    "temp.loc[:,'neg'] = temp.loc[:, 'sentiment'].apply(lambda x: is_neg(x, threshold = threshold))\n",
    "temp = temp.loc[:,['pos', 'neg']].groupby(by = ['quarter']).mean()\n",
    "\n",
    "temp1 = sent.loc[sent.loc[:,'random'] == 1, ['quarter','username', 'sentiment']].groupby(by = ['quarter', 'username']).mean()\n",
    "threshold = 0.05\n",
    "temp1.loc[:,'pos'] = temp1.loc[:, 'sentiment'].apply(lambda x: is_pos(x, threshold = threshold))\n",
    "temp1.loc[:,'neg'] = temp1.loc[:, 'sentiment'].apply(lambda x: is_neg(x, threshold = threshold))\n",
    "temp1 = temp1.loc[:,['pos', 'neg']].groupby(by = ['quarter']).mean()\n",
    "\n",
    "quarterly_sent = pd.merge(temp, temp1, how = 'left',on = 'quarter', suffixes = [' institutions', ' random'])"
   ]
  },
  {
   "cell_type": "code",
   "execution_count": 14,
   "metadata": {},
   "outputs": [],
   "source": [
    "# there were some rows with the total of each year which is not needed, so these are removed\n",
    "remove = ['2013','2014', '2015', '2016', '2017','2018','2019']\n",
    "st = st.loc[~st.loc[:,'perioden'].isin(remove),['Til starter dig','Til starter all','perioden']]\n",
    "st.loc[:,'quarter'] = st.loc[:,'perioden'].apply(lambda x: x.split()[0]+'Q'+x.split()[1][0])"
   ]
  },
  {
   "cell_type": "code",
   "execution_count": 15,
   "metadata": {},
   "outputs": [],
   "source": [
    "# the quaterly sentiment and quaterly emotions are merged with the starters dataset\n",
    "temp = pd.merge(st.loc[:,['quarter','Til starter dig', 'Til starter all']], quarterly_sent, how = 'left',left_on = 'quarter', right_index = True)\n",
    "temp = pd.merge(temp, quarterly_emot, how = 'left', on = 'quarter')\n",
    "st_final = temp"
   ]
  },
  {
   "cell_type": "code",
   "execution_count": 16,
   "metadata": {},
   "outputs": [],
   "source": [
    "# st_final = st_final.loc[4:,:]\n",
    "st_final.loc[:, 'Til starter dig 1Q'] = st_final.loc[:,'Til starter dig'].shift(-1)\n",
    "st_final.loc[:, 'Til starter all 1Q'] = st_final.loc[:,'Til starter all'].shift(-1)\n",
    "st_final.to_csv(data+'final starters.csv')"
   ]
  }
 ],
 "metadata": {
  "kernelspec": {
   "display_name": "Python 3",
   "language": "python",
   "name": "python3"
  },
  "language_info": {
   "codemirror_mode": {
    "name": "ipython",
    "version": 3
   },
   "file_extension": ".py",
   "mimetype": "text/x-python",
   "name": "python",
   "nbconvert_exporter": "python",
   "pygments_lexer": "ipython3",
   "version": "3.6.8"
  }
 },
 "nbformat": 4,
 "nbformat_minor": 2
}
